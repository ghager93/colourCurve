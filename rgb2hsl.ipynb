{
 "cells": [
  {
   "cell_type": "code",
   "execution_count": 1,
   "metadata": {},
   "outputs": [],
   "source": [
    "import numpy as np"
   ]
  },
  {
   "cell_type": "code",
   "execution_count": 2,
   "metadata": {},
   "outputs": [],
   "source": [
    "def _fc_max(r, g, b):\n",
    "    return np.maximum(r, np.maximum(g, b))"
   ]
  },
  {
   "cell_type": "code",
   "execution_count": 3,
   "metadata": {},
   "outputs": [],
   "source": [
    "def _fc_min(r, g, b):\n",
    "    return np.minimum(r, np.minimum(g, b))"
   ]
  },
  {
   "cell_type": "code",
   "execution_count": 4,
   "metadata": {},
   "outputs": [],
   "source": [
    "def _fdelta(c_max, c_min):\n",
    "    return c_max - c_min"
   ]
  },
  {
   "cell_type": "code",
   "execution_count": 5,
   "metadata": {},
   "outputs": [],
   "source": [
    "def _fh(r, g, b, delta, c_max):\n",
    "#     if delta == 0:\n",
    "#         return 0\n",
    "#     if c_max == r:\n",
    "#         return 60 * (((g - b) / delta) % 6)     \n",
    "#     if c_max == g:\n",
    "#         return 60 * (((b - r) / delta) + 2)\n",
    "#     if c_max == b:\n",
    "#         return 60 * (((r - g) / delta) + 4)\n",
    "#     return -1\n",
    "    delta_no_zeros = np.where(delta == 0, 1, delta)\n",
    "\n",
    "    def cmax_is_r():\n",
    "        return 60 * (((g - b) / delta_no_zeros) % 6)\n",
    "    def cmax_is_g():\n",
    "        return 60 * (((b - r) / delta_no_zeros) + 2)\n",
    "    def cmax_is_b():\n",
    "        return 60 * (((r - g) / delta_no_zeros) + 4)\n",
    "\n",
    "    out = np.zeros(delta.shape)\n",
    "    out = np.where((c_max == r) & (delta != 0), cmax_is_r(), out)\n",
    "    out = np.where((c_max == g) & (delta != 0), cmax_is_g(), out)\n",
    "    out = np.where((c_max == b) & (delta != 0), cmax_is_b(), out)\n",
    "    \n",
    "    return out"
   ]
  },
  {
   "cell_type": "code",
   "execution_count": 6,
   "metadata": {},
   "outputs": [],
   "source": [
    "def _fs(delta, vl):\n",
    "#     if delta == 0:\n",
    "#         return 0\n",
    "#     else:\n",
    "#         return delta / (1 - np.abs(2 * vl - 1))\n",
    "    \n",
    "    return np.where(delta != 0, delta / (1 - np.abs(2 * vl - 1)), 0)"
   ]
  },
  {
   "cell_type": "code",
   "execution_count": 7,
   "metadata": {},
   "outputs": [],
   "source": [
    "def _fl(c_max, c_min):\n",
    "    return (c_max + c_min) / 2"
   ]
  },
  {
   "cell_type": "code",
   "execution_count": 8,
   "metadata": {},
   "outputs": [],
   "source": [
    "def rgb2hsl(r, g, b):\n",
    "    c_max = _fc_max(r, g, b)\n",
    "    c_min = _fc_min(r, g, b)\n",
    "    delta = _fdelta(c_max, c_min)\n",
    "    \n",
    "    h = _fh(r, g, b, delta, c_max)\n",
    "    vl = _fl(c_max, c_min)\n",
    "    s = _fs(delta, vl)\n",
    "    \n",
    "    return h, s, vl"
   ]
  },
  {
   "cell_type": "code",
   "execution_count": 9,
   "metadata": {},
   "outputs": [
    {
     "name": "stdout",
     "output_type": "stream",
     "text": [
      "(array([[316.59330103, 159.61727997],\n",
      "       [151.33452965, 345.3203903 ]]), array([[0.739653  , 0.58756173],\n",
      "       [0.77188892, 0.32202212]]), array([[0.58307622, 0.44626972],\n",
      "       [0.50844191, 0.73339048]]))\n"
     ]
    }
   ],
   "source": [
    "a = np.random.rand(2, 2, 3)\n",
    "print(rgb2hsl(*a.transpose(2, 0, 1)))"
   ]
  },
  {
   "cell_type": "code",
   "execution_count": 10,
   "metadata": {},
   "outputs": [
    {
     "data": {
      "text/plain": [
       "array([[[0.89145515, 0.18405871],\n",
       "        [0.12901367, 0.81924464]],\n",
       "\n",
       "       [[0.2746973 , 0.70848073],\n",
       "        [0.88787015, 0.64753632]],\n",
       "\n",
       "       [[0.72088767, 0.53032827],\n",
       "        [0.52532052, 0.6895465 ]]])"
      ]
     },
     "execution_count": 10,
     "metadata": {},
     "output_type": "execute_result"
    }
   ],
   "source": [
    "a.transpose(2, 0, 1)"
   ]
  },
  {
   "cell_type": "code",
   "execution_count": 11,
   "metadata": {},
   "outputs": [
    {
     "data": {
      "text/plain": [
       "(array([[0.89145515, 0.18405871],\n",
       "        [0.12901367, 0.81924464]]),\n",
       " array([[0.2746973 , 0.70848073],\n",
       "        [0.88787015, 0.64753632]]),\n",
       " array([[0.72088767, 0.53032827],\n",
       "        [0.52532052, 0.6895465 ]]))"
      ]
     },
     "execution_count": 11,
     "metadata": {},
     "output_type": "execute_result"
    }
   ],
   "source": [
    "r, g, b = a.transpose(2, 0, 1)\n",
    "r, g, b"
   ]
  },
  {
   "cell_type": "code",
   "execution_count": 12,
   "metadata": {},
   "outputs": [
    {
     "data": {
      "text/plain": [
       "array([[0.89145515, 0.70848073],\n",
       "       [0.88787015, 0.81924464]])"
      ]
     },
     "execution_count": 12,
     "metadata": {},
     "output_type": "execute_result"
    }
   ],
   "source": [
    "c_max = _fc_max(r, g, b)\n",
    "c_max"
   ]
  },
  {
   "cell_type": "code",
   "execution_count": 13,
   "metadata": {},
   "outputs": [
    {
     "data": {
      "text/plain": [
       "array([[0.2746973 , 0.18405871],\n",
       "       [0.12901367, 0.64753632]])"
      ]
     },
     "execution_count": 13,
     "metadata": {},
     "output_type": "execute_result"
    }
   ],
   "source": [
    "c_min = _fc_min(r, g, b)\n",
    "c_min"
   ]
  },
  {
   "cell_type": "code",
   "execution_count": 14,
   "metadata": {},
   "outputs": [
    {
     "data": {
      "text/plain": [
       "array([[0.61675785, 0.52442202],\n",
       "       [0.75885649, 0.17170833]])"
      ]
     },
     "execution_count": 14,
     "metadata": {},
     "output_type": "execute_result"
    }
   ],
   "source": [
    "delta = c_max - c_min\n",
    "delta"
   ]
  },
  {
   "cell_type": "code",
   "execution_count": 15,
   "metadata": {},
   "outputs": [
    {
     "data": {
      "text/plain": [
       "array([[316.59330103, 159.61727997],\n",
       "       [151.33452965, 345.3203903 ]])"
      ]
     },
     "execution_count": 15,
     "metadata": {},
     "output_type": "execute_result"
    }
   ],
   "source": [
    "h = _fh(r, g, b, delta, c_max)\n",
    "h"
   ]
  },
  {
   "cell_type": "code",
   "execution_count": 16,
   "metadata": {},
   "outputs": [
    {
     "data": {
      "text/plain": [
       "array([['r', 'g'],\n",
       "       ['g', 'r']], dtype='<U11')"
      ]
     },
     "execution_count": 16,
     "metadata": {},
     "output_type": "execute_result"
    }
   ],
   "source": [
    "colour = np.where(c_max == r, 'r', 0)\n",
    "colour = np.where(c_max == g, 'g', colour)\n",
    "colour = np.where(c_max == b, 'b', colour)\n",
    "colour"
   ]
  },
  {
   "cell_type": "code",
   "execution_count": 17,
   "metadata": {},
   "outputs": [
    {
     "data": {
      "text/plain": [
       "array([[1.72344498, 2.660288  ],\n",
       "       [2.52224216, 1.24466016]])"
      ]
     },
     "execution_count": 17,
     "metadata": {},
     "output_type": "execute_result"
    }
   ],
   "source": [
    "((b - r) / delta) + 2"
   ]
  },
  {
   "cell_type": "code",
   "execution_count": 18,
   "metadata": {},
   "outputs": [
    {
     "data": {
      "text/plain": [
       "array([227.32106199,  70.04781149, 183.8263555 ])"
      ]
     },
     "execution_count": 18,
     "metadata": {},
     "output_type": "execute_result"
    }
   ],
   "source": [
    "np.array([r[0, 0], g[0, 0], b[0, 0]]) * 255"
   ]
  },
  {
   "cell_type": "code",
   "execution_count": 21,
   "metadata": {},
   "outputs": [
    {
     "data": {
      "text/plain": [
       "(array([[316.59330103, 159.61727997],\n",
       "        [151.33452965, 345.3203903 ]]),\n",
       " array([[0.739653  , 0.58756173],\n",
       "        [0.77188892, 0.32202212]]),\n",
       " array([[0.58307622, 0.44626972],\n",
       "        [0.50844191, 0.73339048]]))"
      ]
     },
     "execution_count": 21,
     "metadata": {},
     "output_type": "execute_result"
    }
   ],
   "source": [
    "h, s, vl = rgb2hsl(r, g, b)\n",
    "h, s, vl"
   ]
  },
  {
   "cell_type": "code",
   "execution_count": 20,
   "metadata": {},
   "outputs": [
    {
     "data": {
      "text/plain": [
       "(316.5933010310521, 0.7396529994176579, 0.5830762225087498)"
      ]
     },
     "execution_count": 20,
     "metadata": {},
     "output_type": "execute_result"
    }
   ],
   "source": [
    "h[0, 0], s[0, 0], vl[0, 0]"
   ]
  },
  {
   "cell_type": "code",
   "execution_count": null,
   "metadata": {},
   "outputs": [],
   "source": []
  }
 ],
 "metadata": {
  "kernelspec": {
   "display_name": "Python 3",
   "language": "python",
   "name": "python3"
  },
  "language_info": {
   "codemirror_mode": {
    "name": "ipython",
    "version": 3
   },
   "file_extension": ".py",
   "mimetype": "text/x-python",
   "name": "python",
   "nbconvert_exporter": "python",
   "pygments_lexer": "ipython3",
   "version": "3.8.3"
  }
 },
 "nbformat": 4,
 "nbformat_minor": 4
}
