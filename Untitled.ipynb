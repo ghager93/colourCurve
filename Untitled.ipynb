{
 "cells": [
  {
   "cell_type": "code",
   "execution_count": 1,
   "metadata": {},
   "outputs": [],
   "source": [
    "import numpy as np"
   ]
  },
  {
   "cell_type": "code",
   "execution_count": null,
   "metadata": {},
   "outputs": [],
   "source": []
  },
  {
   "cell_type": "code",
   "execution_count": 2,
   "metadata": {},
   "outputs": [],
   "source": [
    "domain = np.zeros((100, 100))\n",
    "H_limit = 360\n",
    "S_limit = 1\n",
    "L_limit = 1"
   ]
  },
  {
   "cell_type": "code",
   "execution_count": 3,
   "metadata": {},
   "outputs": [],
   "source": [
    "def H_dash(H): return (H % 360) / 60"
   ]
  },
  {
   "cell_type": "code",
   "execution_count": 4,
   "metadata": {},
   "outputs": [],
   "source": [
    "def C(S, L): return S * (1 - np.abs(2*L - 1))"
   ]
  },
  {
   "cell_type": "code",
   "execution_count": 5,
   "metadata": {},
   "outputs": [],
   "source": [
    "def X(C, H_dash): return C * (1 - np.abs(H_dash % 2 - 1))"
   ]
  },
  {
   "cell_type": "code",
   "execution_count": 6,
   "metadata": {},
   "outputs": [],
   "source": [
    "def m(L, C): return L - C / 2"
   ]
  },
  {
   "cell_type": "code",
   "execution_count": 87,
   "metadata": {},
   "outputs": [],
   "source": [
    "def RGB_raw(h_dash, c, x): \n",
    "    h_dash = np.array(h_dash)\n",
    "    c = np.array(c)\n",
    "    x = np.array(x)\n",
    "    \n",
    "#     if 0 <= H_dash < 1:\n",
    "#         return C, X, 0\n",
    "#     if 1 <= H_dash < 2:\n",
    "#         return X, C, 0\n",
    "#     if 2 <= H_dash < 3:\n",
    "#         return 0, C, X\n",
    "#     if 3 <= H_dash < 4:\n",
    "#         return 0, X, C\n",
    "#     if 4 <= H_dash < 5:\n",
    "#         return X, 0, C\n",
    "#     if 5 <= H_dash < 6:\n",
    "#         return C, 0, X\n",
    "    \n",
    "#     out = np.zeros((h_dash.shape[0], h_dash.shape[1], 3))\n",
    "    out = h_dash[:, np.newaxis]\n",
    "    \n",
    "    h_seg = hex_segment(h_dash, 0)\n",
    "    out[h_seg, 0] = c[h_seg]\n",
    "    out[h_seg, 1] = x[h_seg]\n",
    "    out[h_seg, 2] = 0.\n",
    "    \n",
    "    h_seg = hex_segment(h_dash, 1)\n",
    "    out[h_seg, 0] = x[h_seg]\n",
    "    out[h_seg, 1] = c[h_seg]\n",
    "    out[h_seg, 2] = 0.\n",
    "    \n",
    "    h_seg = hex_segment(h_dash, 2)\n",
    "    out[h_seg, 0] = 0.\n",
    "    out[h_seg, 1] = c[h_seg]\n",
    "    out[h_seg, 2] = x[h_seg]\n",
    "    \n",
    "    h_seg = hex_segment(h_dash, 3)\n",
    "    out[h_seg, 0] = 0.\n",
    "    out[h_seg, 1] = x[h_seg]\n",
    "    out[h_seg, 2] = c[h_seg]\n",
    "    \n",
    "    h_seg = hex_segment(h_dash, 4)\n",
    "    out[h_seg, 0] = x[h_seg]\n",
    "    out[h_seg, 1] = 0.\n",
    "    out[h_seg, 2] = c[h_seg]\n",
    "    \n",
    "    h_seg = hex_segment(h_dash, 5)\n",
    "    out[h_seg, 0] = c[h_seg]\n",
    "    out[h_seg, 1] = 0.\n",
    "    out[h_seg, 2] = x[h_seg]\n",
    "    \n",
    "    return out\n",
    "    "
   ]
  },
  {
   "cell_type": "code",
   "execution_count": 85,
   "metadata": {},
   "outputs": [],
   "source": [
    "def hex_segment(h_dash, seg):\n",
    "    return (h_dash >= seg) & (h_dash < seg + 1)"
   ]
  },
  {
   "cell_type": "code",
   "execution_count": 8,
   "metadata": {},
   "outputs": [],
   "source": [
    "def RGB_normalise(RGB, m): return RGB + m"
   ]
  },
  {
   "cell_type": "code",
   "execution_count": 9,
   "metadata": {},
   "outputs": [],
   "source": [
    "def hsl2rgb(H, S, L):\n",
    "    h_dash = H_dash(H)\n",
    "    c = C(S, L)\n",
    "    x = X(c, h_dash)\n",
    "    return RGB_normalise(RGB_raw(h_dash, c, x), m(L, c))"
   ]
  },
  {
   "cell_type": "code",
   "execution_count": 18,
   "metadata": {},
   "outputs": [],
   "source": [
    "h = np.random.rand(3, 3) * 360\n",
    "s = np.random.rand(3, 3)\n",
    "l = np.random.rand(3, 3)"
   ]
  },
  {
   "cell_type": "code",
   "execution_count": 31,
   "metadata": {},
   "outputs": [],
   "source": [
    "h_dash = H_dash(h)"
   ]
  },
  {
   "cell_type": "code",
   "execution_count": 83,
   "metadata": {},
   "outputs": [],
   "source": [
    "c = C(s, l)\n",
    "x = X(c, h_dash)"
   ]
  },
  {
   "cell_type": "code",
   "execution_count": 90,
   "metadata": {
    "scrolled": true
   },
   "outputs": [
    {
     "ename": "IndexError",
     "evalue": "tuple index out of range",
     "output_type": "error",
     "traceback": [
      "\u001b[1;31m---------------------------------------------------------------------------\u001b[0m",
      "\u001b[1;31mIndexError\u001b[0m                                Traceback (most recent call last)",
      "\u001b[1;32m<ipython-input-90-75d7d97bb1a6>\u001b[0m in \u001b[0;36m<module>\u001b[1;34m\u001b[0m\n\u001b[1;32m----> 1\u001b[1;33m \u001b[0mhsl2rgb\u001b[0m\u001b[1;33m(\u001b[0m\u001b[1;36m40\u001b[0m\u001b[1;33m,\u001b[0m \u001b[1;36m0.7\u001b[0m\u001b[1;33m,\u001b[0m \u001b[1;36m0.3\u001b[0m\u001b[1;33m)\u001b[0m\u001b[1;33m\u001b[0m\u001b[1;33m\u001b[0m\u001b[0m\n\u001b[0m",
      "\u001b[1;32m<ipython-input-9-3b15443809a0>\u001b[0m in \u001b[0;36mhsl2rgb\u001b[1;34m(H, S, L)\u001b[0m\n\u001b[0;32m      3\u001b[0m     \u001b[0mc\u001b[0m \u001b[1;33m=\u001b[0m \u001b[0mC\u001b[0m\u001b[1;33m(\u001b[0m\u001b[0mS\u001b[0m\u001b[1;33m,\u001b[0m \u001b[0mL\u001b[0m\u001b[1;33m)\u001b[0m\u001b[1;33m\u001b[0m\u001b[1;33m\u001b[0m\u001b[0m\n\u001b[0;32m      4\u001b[0m     \u001b[0mx\u001b[0m \u001b[1;33m=\u001b[0m \u001b[0mX\u001b[0m\u001b[1;33m(\u001b[0m\u001b[0mc\u001b[0m\u001b[1;33m,\u001b[0m \u001b[0mh_dash\u001b[0m\u001b[1;33m)\u001b[0m\u001b[1;33m\u001b[0m\u001b[1;33m\u001b[0m\u001b[0m\n\u001b[1;32m----> 5\u001b[1;33m     \u001b[1;32mreturn\u001b[0m \u001b[0mRGB_normalise\u001b[0m\u001b[1;33m(\u001b[0m\u001b[0mRGB_raw\u001b[0m\u001b[1;33m(\u001b[0m\u001b[0mh_dash\u001b[0m\u001b[1;33m,\u001b[0m \u001b[0mc\u001b[0m\u001b[1;33m,\u001b[0m \u001b[0mx\u001b[0m\u001b[1;33m)\u001b[0m\u001b[1;33m,\u001b[0m \u001b[0mm\u001b[0m\u001b[1;33m(\u001b[0m\u001b[0mL\u001b[0m\u001b[1;33m,\u001b[0m \u001b[0mc\u001b[0m\u001b[1;33m)\u001b[0m\u001b[1;33m)\u001b[0m\u001b[1;33m\u001b[0m\u001b[1;33m\u001b[0m\u001b[0m\n\u001b[0m",
      "\u001b[1;32m<ipython-input-87-2b6a32c7720d>\u001b[0m in \u001b[0;36mRGB_raw\u001b[1;34m(h_dash, c, x)\u001b[0m\n\u001b[0;32m     17\u001b[0m \u001b[1;31m#         return C, 0, X\u001b[0m\u001b[1;33m\u001b[0m\u001b[1;33m\u001b[0m\u001b[1;33m\u001b[0m\u001b[0m\n\u001b[0;32m     18\u001b[0m \u001b[1;33m\u001b[0m\u001b[0m\n\u001b[1;32m---> 19\u001b[1;33m     \u001b[0mout\u001b[0m \u001b[1;33m=\u001b[0m \u001b[0mnp\u001b[0m\u001b[1;33m.\u001b[0m\u001b[0mzeros\u001b[0m\u001b[1;33m(\u001b[0m\u001b[1;33m(\u001b[0m\u001b[0mh_dash\u001b[0m\u001b[1;33m.\u001b[0m\u001b[0mshape\u001b[0m\u001b[1;33m[\u001b[0m\u001b[1;36m0\u001b[0m\u001b[1;33m]\u001b[0m\u001b[1;33m,\u001b[0m \u001b[0mh_dash\u001b[0m\u001b[1;33m.\u001b[0m\u001b[0mshape\u001b[0m\u001b[1;33m[\u001b[0m\u001b[1;36m1\u001b[0m\u001b[1;33m]\u001b[0m\u001b[1;33m,\u001b[0m \u001b[1;36m3\u001b[0m\u001b[1;33m)\u001b[0m\u001b[1;33m)\u001b[0m\u001b[1;33m\u001b[0m\u001b[1;33m\u001b[0m\u001b[0m\n\u001b[0m\u001b[0;32m     20\u001b[0m \u001b[1;33m\u001b[0m\u001b[0m\n\u001b[0;32m     21\u001b[0m     \u001b[0mh_seg\u001b[0m \u001b[1;33m=\u001b[0m \u001b[0mhex_segment\u001b[0m\u001b[1;33m(\u001b[0m\u001b[0mh_dash\u001b[0m\u001b[1;33m,\u001b[0m \u001b[1;36m0\u001b[0m\u001b[1;33m)\u001b[0m\u001b[1;33m\u001b[0m\u001b[1;33m\u001b[0m\u001b[0m\n",
      "\u001b[1;31mIndexError\u001b[0m: tuple index out of range"
     ]
    }
   ],
   "source": [
    "hsl2rgb(40, 0.7, 0.3)"
   ]
  },
  {
   "cell_type": "code",
   "execution_count": 96,
   "metadata": {},
   "outputs": [
    {
     "ename": "IndexError",
     "evalue": "tuple index out of range",
     "output_type": "error",
     "traceback": [
      "\u001b[1;31m---------------------------------------------------------------------------\u001b[0m",
      "\u001b[1;31mIndexError\u001b[0m                                Traceback (most recent call last)",
      "\u001b[1;32m<ipython-input-96-34fbe365dfc6>\u001b[0m in \u001b[0;36m<module>\u001b[1;34m\u001b[0m\n\u001b[0;32m      1\u001b[0m \u001b[0ma\u001b[0m \u001b[1;33m=\u001b[0m \u001b[0mnp\u001b[0m\u001b[1;33m.\u001b[0m\u001b[0marray\u001b[0m\u001b[1;33m(\u001b[0m\u001b[1;33m[\u001b[0m\u001b[1;36m4\u001b[0m\u001b[1;33m]\u001b[0m\u001b[1;33m)\u001b[0m\u001b[1;33m\u001b[0m\u001b[1;33m\u001b[0m\u001b[0m\n\u001b[1;32m----> 2\u001b[1;33m \u001b[0ma\u001b[0m\u001b[1;33m.\u001b[0m\u001b[0mshape\u001b[0m\u001b[1;33m[\u001b[0m\u001b[1;36m1\u001b[0m\u001b[1;33m]\u001b[0m\u001b[1;33m\u001b[0m\u001b[1;33m\u001b[0m\u001b[0m\n\u001b[0m",
      "\u001b[1;31mIndexError\u001b[0m: tuple index out of range"
     ]
    }
   ],
   "source": [
    "a = np.array([4])\n",
    "a.shape[1]"
   ]
  }
 ],
 "metadata": {
  "kernelspec": {
   "display_name": "Python 3",
   "language": "python",
   "name": "python3"
  },
  "language_info": {
   "codemirror_mode": {
    "name": "ipython",
    "version": 3
   },
   "file_extension": ".py",
   "mimetype": "text/x-python",
   "name": "python",
   "nbconvert_exporter": "python",
   "pygments_lexer": "ipython3",
   "version": "3.8.3"
  }
 },
 "nbformat": 4,
 "nbformat_minor": 4
}
