{
 "cells": [
  {
   "cell_type": "code",
   "execution_count": 1,
   "metadata": {},
   "outputs": [],
   "source": [
    "import numpy as np\n",
    "import matplotlib.pyplot as plt"
   ]
  },
  {
   "cell_type": "code",
   "execution_count": 24,
   "metadata": {},
   "outputs": [],
   "source": [
    "grid = np.array([[i, j] for i in range(5) for j in range(5)])\n",
    "p = np.array([1.2, 2.5])\n",
    "q = np.array([2.7, 3.1])"
   ]
  },
  {
   "cell_type": "code",
   "execution_count": 31,
   "metadata": {},
   "outputs": [],
   "source": [
    "u_x = lambda x, y: 1 / (2 * (y - p[1]) * ((x - p[0])**2 + (y - p[1])**2 + 1)**2) * (q[0] - x)\n",
    "u_y = lambda x, y: 1 / (2 * (x - p[0]) * ((x - p[0])**2 + (y - p[1])**2 + 1)**2) * (q[1] - y)"
   ]
  },
  {
   "cell_type": "code",
   "execution_count": 32,
   "metadata": {},
   "outputs": [],
   "source": [
    "ux_grid = u_x(*grid.transpose())\n",
    "uy_grid = u_y(*grid.transpose())\n",
    "u_grid = np.array([ux_grid, uy_grid])"
   ]
  },
  {
   "cell_type": "code",
   "execution_count": 27,
   "metadata": {},
   "outputs": [
    {
     "name": "stdout",
     "output_type": "stream",
     "text": [
      "[ 0.00715079 -0.01710452]\n",
      "0.007150793009702568 -0.017104520316418178\n"
     ]
    }
   ],
   "source": [
    "print(u_grid.transpose()[0,:])\n",
    "print(ux_grid[0], uy_grid[0])"
   ]
  },
  {
   "cell_type": "code",
   "execution_count": 33,
   "metadata": {},
   "outputs": [],
   "source": [
    "q_grid = grid + u_grid.transpose()"
   ]
  },
  {
   "cell_type": "code",
   "execution_count": 34,
   "metadata": {},
   "outputs": [
    {
     "data": {
      "text/plain": [
       "<matplotlib.collections.PathCollection at 0x23a4f5feb50>"
      ]
     },
     "execution_count": 34,
     "metadata": {},
     "output_type": "execute_result"
    },
    {
     "data": {
      "image/png": "[encoded data removed]",
      "text/plain": [
       "<Figure size 432x288 with 1 Axes>"
      ]
     },
     "metadata": {
      "needs_background": "light"
     },
     "output_type": "display_data"
    }
   ],
   "source": [
    "plt.scatter(*grid.transpose())\n",
    "plt.scatter(*p)\n",
    "plt.scatter(*q)\n",
    "plt.scatter(*q_grid.transpose())"
   ]
  }
 ],
 "metadata": {
  "kernelspec": {
   "display_name": "Python 3",
   "language": "python",
   "name": "python3"
  },
  "language_info": {
   "codemirror_mode": {
    "name": "ipython",
    "version": 3
   },
   "file_extension": ".py",
   "mimetype": "text/x-python",
   "name": "python",
   "nbconvert_exporter": "python",
   "pygments_lexer": "ipython3",
   "version": "3.8.3"
  }
 },
 "nbformat": 4,
 "nbformat_minor": 4
}
